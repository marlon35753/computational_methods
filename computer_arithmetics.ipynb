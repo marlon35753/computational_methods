{
  "nbformat": 4,
  "nbformat_minor": 0,
  "metadata": {
    "kernelspec": {
      "display_name": "Python 3",
      "language": "python",
      "name": "python3"
    },
    "language_info": {
      "codemirror_mode": {
        "name": "ipython",
        "version": 3
      },
      "file_extension": ".py",
      "mimetype": "text/x-python",
      "name": "python",
      "nbconvert_exporter": "python",
      "pygments_lexer": "ipython3",
      "version": "3.4.2"
    },
    "toc": {
      "colors": {
        "hover_highlight": "#DAA520",
        "running_highlight": "#FF0000",
        "selected_highlight": "#FFD700"
      },
      "moveMenuLeft": true,
      "nav_menu": {
        "height": "189px",
        "width": "252px"
      },
      "navigate_menu": true,
      "number_sections": true,
      "sideBar": true,
      "threshold": 4,
      "toc_cell": false,
      "toc_section_display": "block",
      "toc_window_display": false
    },
    "colab": {
      "name": "Copia de computer-arithmetics.ipynb",
      "provenance": [],
      "include_colab_link": true
    }
  },
  "cells": [
    {
      "cell_type": "markdown",
      "metadata": {
        "id": "view-in-github",
        "colab_type": "text"
      },
      "source": [
        "<a href=\"https://colab.research.google.com/github/marlonandres3m/computational_methods/blob/master/computer_arithmetics.ipynb\" target=\"_parent\"><img src=\"https://colab.research.google.com/assets/colab-badge.svg\" alt=\"Open In Colab\"/></a>"
      ]
    },
    {
      "cell_type": "markdown",
      "metadata": {
        "id": "M1Cw_TKzekWR",
        "colab_type": "text"
      },
      "source": [
        "# Computer Arithmetics and Round-off Methods"
      ]
    },
    {
      "cell_type": "markdown",
      "metadata": {
        "id": "b-wfqonFekWT",
        "colab_type": "text"
      },
      "source": [
        "Actividades: https://classroom.github.com/a/2v-HnNqn"
      ]
    },
    {
      "cell_type": "markdown",
      "metadata": {
        "id": "K-Y40d7IekWU",
        "colab_type": "text"
      },
      "source": [
        "In a symbolic computation programs, implemented in SymPy or Mathematica for example, operatios like $1/3+4/3=5/3$, $2\\times 3/4 = 3/2$, $(\\sqrt{2})^2 = 2$ are unambiguously defined, However, when one numerical programming languages are used to represent numbers in a computer, this is no longer true. The main reason of this is the so-called *finite arithmetic*, what is the way in which a numerical computer programs performs basic operations. Some features of *finite arithmetic* are stated below:\n",
        "\n",
        "- Only integer and rational numbers can be exactly represented.\n",
        "- The elements of the set in which arithmetic is performed is necessarily finite.\n",
        "- Any arithmetic operation between two or more numbers of this set should be another element of the set.\n",
        "- Non-representable numbers like irrational numbers are approximated to the closest rational number within the defined set.\n",
        "- Extremely large numbers produce overflows and extremely small numbers produce underflows, which are taken as null.\n",
        "- Operations over non-representable numbers are not exact.\n",
        "\n",
        "In spite of this, defining adequately the set of elements in which our computer will operate, round-off methods can be systematically neglected, yielding correct results within reasonable error margins. In some pathological cases, when massive iterations are required, these errors must be taken into account more seriously.\n",
        "\n",
        "- - - \n",
        "\n",
        "- [Binary machine numbers](#Binary-machine-numbers)\n",
        "    - [Single-precision numbers](#Single-precision-numbers)\n",
        "    - [Double-precision numbers](#Double-precision-numbers)\n",
        "- [Finite Arithmetic](#Finite-Arithmetic)\n",
        "    - [Addition](#Addition)\n",
        "    - [Multiplication](#Multiplication)\n",
        "\n",
        "- - - "
      ]
    },
    {
      "cell_type": "markdown",
      "metadata": {
        "id": "oqZtWoT7jolm",
        "colab_type": "text"
      },
      "source": [
        "## Binary machine numbers"
      ]
    },
    {
      "cell_type": "markdown",
      "metadata": {
        "id": "7z0MWgOrjuO2",
        "colab_type": "text"
      },
      "source": [
        "We will obtain the general algorithm to obtain the binary r"
      ]
    },
    {
      "cell_type": "markdown",
      "metadata": {
        "id": "6YcTBJivis_R",
        "colab_type": "text"
      },
      "source": [
        "### Integers"
      ]
    },
    {
      "cell_type": "markdown",
      "metadata": {
        "id": "74bewmHTixif",
        "colab_type": "text"
      },
      "source": [
        "From [here](https://www.techcareerbooster.com/blog/binary-representation-of-an-integer): If you recall your mathematics, then it will be easy for you to find out how we turn an integer number to its binary representation. Let's take for example the number 47.\n",
        "\n",
        "1. We divide 47 by 2. The quotient is 23 and the remainder is __1__.\n",
        "2. We divide the quotient of the previous step by 2. The 3. new quotient is 11 and the remainder is __1__.\n",
        "3. We divide the quotient of the previous step by 2. The 4. new quotient is 5 and the remainder is __1__.\n",
        "5. We divide the quotient of the previous step by 2. The 6.new quotient is 2 and the remainder is __1__.\n",
        "6. We divide the quotient of the previous step by 2. The new quotient is 1 and the remainder is __0__.\n",
        "7. We divide the quotient of the previous step by 2. The new quotient is 0 and the remainder is __1__\n",
        "8. We stop here, when the last quotient is 0.\n",
        "\n",
        "Then, the binary representation is the series of __1__s and __0__s of the remainders, taken in reverse order to the one produced, from latest to earliest: __101111__.\n",
        "<!-- https://www.geeksforgeeks.org/bin-in-python/ -->"
      ]
    },
    {
      "cell_type": "markdown",
      "metadata": {
        "id": "NieG9Hn5lp0v",
        "colab_type": "text"
      },
      "source": [
        "__Activity__: Implement a binary function that get the binary representation of an integer. "
      ]
    },
    {
      "cell_type": "markdown",
      "metadata": {
        "id": "Vn7Cusk5orMc",
        "colab_type": "text"
      },
      "source": [
        "__Activity__: Return as a string with 8 charactes completed with leasing zeroes."
      ]
    },
    {
      "cell_type": "markdown",
      "metadata": {
        "id": "WCU8B-h1A2Pq",
        "colab_type": "text"
      },
      "source": [
        "__Activity__ Write your function in the following format"
      ]
    },
    {
      "cell_type": "code",
      "metadata": {
        "id": "aP1xnAWrBfRp",
        "colab_type": "code",
        "outputId": "1daf89ae-6b36-4a2a-a335-d44921f520ef",
        "colab": {
          "base_uri": "https://localhost:8080/",
          "height": 88
        }
      },
      "source": [
        "#!/usr/bin/env python3\n",
        "def mybin(x):\n",
        "    print(__name__)\n",
        "    return bin(x)[2:].rjust(8, \"0\")\n",
        "if __name__=='__main__':\n",
        "    n=input('Escriba un entero;\\n')\n",
        "    b=mybin(int(n))\n",
        "    print('Su representación binaria es: {}'.format(b))"
      ],
      "execution_count": 0,
      "outputs": [
        {
          "output_type": "stream",
          "text": [
            "Escriba un entero;\n",
            "65\n",
            "__main__\n",
            "Su representación binaria es: 01000001\n"
          ],
          "name": "stdout"
        }
      ]
    },
    {
      "cell_type": "code",
      "metadata": {
        "id": "C9-H4KqgBpg2",
        "colab_type": "code",
        "outputId": "56b1222c-e5f4-4b43-afe9-76a6764e36ee",
        "colab": {
          "base_uri": "https://localhost:8080/",
          "height": 35
        }
      },
      "source": [
        "__name__"
      ],
      "execution_count": 0,
      "outputs": [
        {
          "output_type": "execute_result",
          "data": {
            "text/plain": [
              "'__main__'"
            ]
          },
          "metadata": {
            "tags": []
          },
          "execution_count": 37
        }
      ]
    },
    {
      "cell_type": "markdown",
      "metadata": {
        "id": "kWhR37BchYaJ",
        "colab_type": "text"
      },
      "source": [
        "Check with `bin`"
      ]
    },
    {
      "cell_type": "markdown",
      "metadata": {
        "id": "nJiWGP8AgX27",
        "colab_type": "text"
      },
      "source": [
        "The binary representation of a float in 32 bits done by the following steps"
      ]
    },
    {
      "cell_type": "code",
      "metadata": {
        "id": "YbrDjH0-hEhp",
        "colab_type": "code",
        "outputId": "cc03a2db-5a03-4cd6-9764-382ff608f3d4",
        "colab": {
          "base_uri": "https://localhost:8080/",
          "height": 34
        }
      },
      "source": [
        "bin(47)"
      ],
      "execution_count": 0,
      "outputs": [
        {
          "output_type": "execute_result",
          "data": {
            "text/plain": [
              "'0b101111'"
            ]
          },
          "metadata": {
            "tags": []
          },
          "execution_count": 4
        }
      ]
    },
    {
      "cell_type": "markdown",
      "metadata": {
        "id": "5eDFv2B2u_ME",
        "colab_type": "text"
      },
      "source": [
        "The format is not the standard one. We need dropt the firs '0b'"
      ]
    },
    {
      "cell_type": "code",
      "metadata": {
        "id": "vumsZnjDvV9Y",
        "colab_type": "code",
        "outputId": "4cb26c10-6cd9-4940-83b0-21cc899f450e",
        "colab": {
          "base_uri": "https://localhost:8080/",
          "height": 34
        }
      },
      "source": [
        "bin(47)[2:]"
      ],
      "execution_count": 0,
      "outputs": [
        {
          "output_type": "execute_result",
          "data": {
            "text/plain": [
              "'101111'"
            ]
          },
          "metadata": {
            "tags": []
          },
          "execution_count": 5
        }
      ]
    },
    {
      "cell_type": "markdown",
      "metadata": {
        "id": "wp2bXTD8vfKo",
        "colab_type": "text"
      },
      "source": [
        "We must enforce the 8 bits representation by padding any additional leading zeroes"
      ]
    },
    {
      "cell_type": "code",
      "metadata": {
        "id": "uVJtGrt2v61F",
        "colab_type": "code",
        "outputId": "8bcd1b63-d9a5-43ed-8cd6-c2137c488e20",
        "colab": {
          "base_uri": "https://localhost:8080/",
          "height": 34
        }
      },
      "source": [
        "bin(47)[2:].rjust(8, '0')"
      ],
      "execution_count": 0,
      "outputs": [
        {
          "output_type": "execute_result",
          "data": {
            "text/plain": [
              "'00101111'"
            ]
          },
          "metadata": {
            "tags": []
          },
          "execution_count": 6
        }
      ]
    },
    {
      "cell_type": "markdown",
      "metadata": {
        "id": "_MAeRxAGwCA1",
        "colab_type": "text"
      },
      "source": [
        "To convert a binary into the integer we can use the `int` function with `base=0` upont the proper Python formatted string, starting with: <font color='red'>`0b`</font>"
      ]
    },
    {
      "cell_type": "code",
      "metadata": {
        "id": "uw7yxC8HwNqV",
        "colab_type": "code",
        "outputId": "79e18d0f-36eb-4b3a-d867-51d996f712b1",
        "colab": {
          "base_uri": "https://localhost:8080/",
          "height": 34
        }
      },
      "source": [
        "int('0b101111',base=0)"
      ],
      "execution_count": 0,
      "outputs": [
        {
          "output_type": "execute_result",
          "data": {
            "text/plain": [
              "47"
            ]
          },
          "metadata": {
            "tags": []
          },
          "execution_count": 13
        }
      ]
    },
    {
      "cell_type": "markdown",
      "metadata": {
        "id": "bN5y4Kinw-eY",
        "colab_type": "text"
      },
      "source": [
        "or with any number of padding zeroes in between"
      ]
    },
    {
      "cell_type": "code",
      "metadata": {
        "id": "9iQptjEnwigI",
        "colab_type": "code",
        "outputId": "d1373bb9-fe07-480a-cbb4-04617c1eb85d",
        "colab": {
          "base_uri": "https://localhost:8080/",
          "height": 34
        }
      },
      "source": [
        "int('0b0000000101111',base=0)"
      ],
      "execution_count": 0,
      "outputs": [
        {
          "output_type": "execute_result",
          "data": {
            "text/plain": [
              "47"
            ]
          },
          "metadata": {
            "tags": []
          },
          "execution_count": 12
        }
      ]
    },
    {
      "cell_type": "markdown",
      "metadata": {
        "id": "GlLaeJuYekWV",
        "colab_type": "text"
      },
      "source": [
        "### Floats\n",
        "Floats in 32 bits are representated trough 4 8-bit integers.\n",
        "\n",
        "The processes of obtain the binary representation for a float can be complicated because the design used to really  store the number  in one specific programming language like Python. In fact, from https://stackoverflow.com/a/16444778/2268280:"
      ]
    },
    {
      "cell_type": "markdown",
      "metadata": {
        "id": "yg8dpA8M0X_o",
        "colab_type": "text"
      },
      "source": [
        "* To obtain the four integers associated to a real number we need first to ask for the packed structure : `'!'`, in 32 bits: `'f'`, with the full string `'!f'` as"
      ]
    },
    {
      "cell_type": "code",
      "metadata": {
        "id": "JFXl8fYT0m5f",
        "colab_type": "code",
        "outputId": "fd481070-778f-40df-87a0-3c83fd4b0a6a",
        "colab": {
          "base_uri": "https://localhost:8080/",
          "height": 35
        }
      },
      "source": [
        "import struct\n",
        "packed=struct.pack('!f',0.15625)\n",
        "packed"
      ],
      "execution_count": 0,
      "outputs": [
        {
          "output_type": "execute_result",
          "data": {
            "text/plain": [
              "b'> \\x00\\x00'"
            ]
          },
          "metadata": {
            "tags": []
          },
          "execution_count": 27
        }
      ]
    },
    {
      "cell_type": "markdown",
      "metadata": {
        "id": "DF1X9-Q_1jj0",
        "colab_type": "text"
      },
      "source": [
        "This is a packed Python list with the four integers inside"
      ]
    },
    {
      "cell_type": "code",
      "metadata": {
        "id": "gLnTvnAQ1riZ",
        "colab_type": "code",
        "outputId": "8cdb88b3-757d-4eb0-c9af-396b28529df6",
        "colab": {
          "base_uri": "https://localhost:8080/",
          "height": 35
        }
      },
      "source": [
        "[n for n in packed]"
      ],
      "execution_count": 0,
      "outputs": [
        {
          "output_type": "execute_result",
          "data": {
            "text/plain": [
              "[62, 32, 0, 0]"
            ]
          },
          "metadata": {
            "tags": []
          },
          "execution_count": 28
        }
      ]
    },
    {
      "cell_type": "markdown",
      "metadata": {
        "id": "fUv2SZWO14nY",
        "colab_type": "text"
      },
      "source": [
        "__Activity__: Use your previous function to convert into a list of 8-bit strings"
      ]
    },
    {
      "cell_type": "code",
      "metadata": {
        "id": "7Sd2oDWN7V2v",
        "colab_type": "code",
        "colab": {}
      },
      "source": [
        ""
      ],
      "execution_count": 0,
      "outputs": []
    },
    {
      "cell_type": "markdown",
      "metadata": {
        "id": "9AMusf-b7WYI",
        "colab_type": "text"
      },
      "source": [
        "__Activity__: Use the python `bin` function to convert into a list of 8-bit string"
      ]
    },
    {
      "cell_type": "code",
      "metadata": {
        "id": "FOhs1y827i31",
        "colab_type": "code",
        "colab": {}
      },
      "source": [
        ""
      ],
      "execution_count": 0,
      "outputs": []
    },
    {
      "cell_type": "markdown",
      "metadata": {
        "id": "KL8J_d0y7jNI",
        "colab_type": "text"
      },
      "source": [
        "#### Full implementation"
      ]
    },
    {
      "cell_type": "code",
      "metadata": {
        "id": "JaBoHSiAekWW",
        "colab_type": "code",
        "colab": {}
      },
      "source": [
        "import struct\n",
        "\n",
        "def binary(num):\n",
        "#num=3\n",
        "#if True:\n",
        "    # Struct can provide us with the float packed into bytes. The '!' ensures that\n",
        "    # it's in network byte order (big-endian) and the 'f' says that it should be\n",
        "    # packed as a float: 32 bites. Alternatively, for double-precision, you could use 'd'.\n",
        "    packed = struct.pack('!f', num)\n",
        "    print( 'Packed: %s' % repr(packed))\n",
        "\n",
        "    # For each character in the returned string, we'll turn it into its corresponding\n",
        "    # integer code point\n",
        "    # \n",
        "    integers = [c for c in packed]\n",
        "    print( 'Integers: %s' % integers)\n",
        "\n",
        "    # For each integer, we'll convert it to its binary representation.\n",
        "    binaries = [bin(i) for i in integers]\n",
        "    print( 'Binaries: %s' % binaries)\n",
        "\n",
        "    # Now strip off the '0b' from each of these\n",
        "    stripped_binaries = [s.replace('0b', '') for s in binaries]\n",
        "    print( 'Stripped: %s' % stripped_binaries)\n",
        "\n",
        "    # Pad each byte's binary representation's with 0's to make sure it has all 8 bits:\n",
        "    #\n",
        "    # ['00111110', '10100011', '11010111', '00001010']\n",
        "    padded = [s.rjust(8, '0') for s in stripped_binaries]\n",
        "    print( 'Padded: %s' % padded)\n",
        "\n",
        "    # At this point, we have each of the bytes for the network byte ordered float\n",
        "    # in an array as binary strings. Now we just concatenate them to get the total\n",
        "    # representation of the float:\n",
        "    return ''.join(padded)"
      ],
      "execution_count": 0,
      "outputs": []
    },
    {
      "cell_type": "code",
      "metadata": {
        "id": "Og6bGmhVekWZ",
        "colab_type": "code",
        "outputId": "059605fc-be6d-479b-8f2e-45ba989fb38c",
        "colab": {
          "base_uri": "https://localhost:8080/",
          "height": 126
        }
      },
      "source": [
        "BIN=binary(0.15625)\n",
        "BIN"
      ],
      "execution_count": 0,
      "outputs": [
        {
          "output_type": "stream",
          "text": [
            "Packed: b'> \\x00\\x00'\n",
            "Integers: [62, 32, 0, 0]\n",
            "Binaries: ['0b111110', '0b100000', '0b0', '0b0']\n",
            "Stripped: ['111110', '100000', '0', '0']\n",
            "Padded: ['00111110', '00100000', '00000000', '00000000']\n"
          ],
          "name": "stdout"
        },
        {
          "output_type": "execute_result",
          "data": {
            "text/plain": [
              "'00111110001000000000000000000000'"
            ]
          },
          "metadata": {
            "tags": []
          },
          "execution_count": 3
        }
      ]
    },
    {
      "cell_type": "markdown",
      "metadata": {
        "id": "G6Nycj-cekWc",
        "colab_type": "text"
      },
      "source": [
        "![32-bits](http://upload.wikimedia.org/wikipedia/commons/thumb/d/d2/Float_example.svg/590px-Float_example.svg.png)"
      ]
    },
    {
      "cell_type": "code",
      "metadata": {
        "id": "KqAdhGWWekWd",
        "colab_type": "code",
        "outputId": "b15caac7-38d8-4412-a683-09cf532a0f30",
        "colab": {
          "base_uri": "https://localhost:8080/",
          "height": 35
        }
      },
      "source": [
        "''.join( list(BIN)[::-1] ) #inverted list joined into a string"
      ],
      "execution_count": 0,
      "outputs": [
        {
          "output_type": "execute_result",
          "data": {
            "text/plain": [
              "'00000000000000000000010001111100'"
            ]
          },
          "metadata": {
            "tags": []
          },
          "execution_count": 4
        }
      ]
    },
    {
      "cell_type": "markdown",
      "metadata": {
        "id": "siRJmwCAekWg",
        "colab_type": "text"
      },
      "source": [
        "## Binary machine numbers    "
      ]
    },
    {
      "cell_type": "markdown",
      "metadata": {
        "id": "9gyrlmVDekWh",
        "colab_type": "text"
      },
      "source": [
        "As everyone knows, the base of the modern computation is the binary numbers. The binary base or base-2 numeral system is the simplest one among the existing numeral bases. As every electronic devices are based on logic circuits (circuits operating with [logic gates](#LogicGates)), the implementation of a binary base is straightforward, besides, any other numeral system can be reduced to a binary representation.\n",
        "\n",
        "![LogicGates](http://www.ee.surrey.ac.uk/Projects/CAL/digital-logic/gatesfunc/graphics/symtab.gif)\n",
        "\n",
        "According to the standard [IEEE 754-2008](http://en.wikipedia.org/wiki/IEEE_floating_point), representation of real numbers can be done in several ways, [single-precision](http://en.wikipedia.org/wiki/Single-precision_floating-point_format) and [double precision](http://en.wikipedia.org/wiki/Double-precision_floating-point_format) are the most used ones."
      ]
    },
    {
      "cell_type": "markdown",
      "metadata": {
        "id": "mTaL_rTLekWh",
        "colab_type": "text"
      },
      "source": [
        "### Single-precision numbers"
      ]
    },
    {
      "cell_type": "markdown",
      "metadata": {
        "id": "i0TqQpJuekWi",
        "colab_type": "text"
      },
      "source": [
        "Single-precision numbers are used when one does not need very accurate results and/or need to save memory. These numbers are represented by a **32-bits** (Binary digIT) lenght binary number, where the real number is stored following the next rules:\n",
        "\n",
        "![32-bits](http://upload.wikimedia.org/wikipedia/commons/thumb/d/d2/Float_example.svg/590px-Float_example.svg.png)\n",
        "\n",
        "1. The fist digit (called *s*) indicates the sign of the number (s=0 means a positive number, s=1 a negative one).\n",
        "2. The next 8 bits represent the exponent of the number.\n",
        "3. The last 23 bits represent the fractional part of the number.\n",
        "\n",
        "The formula for recovering the real number is then given by:\n",
        "\n",
        "$$r = \\frac{(-1)^s}{2^{127-e}} \\left( 1 + \\sum_{i=0}^{22}\\frac{b_{i}}{2^{23-i}} \\right)$$\n",
        "\n",
        "where $s$ is the sign, $b_{23-i}$ the fraction bits and $e$ is given by:\n",
        "\n",
        "$$e = \\sum_{i=0}^7 b_{23+i}2^i$$\n",
        "\n",
        "Next, it is shown a little routine for calculating the value of the represented 32-bits number"
      ]
    },
    {
      "cell_type": "markdown",
      "metadata": {
        "id": "2ycxeSJCekWj",
        "colab_type": "text"
      },
      "source": [
        "### ACTIVITY\n",
        "With the binary representation please try to implement the formula to recover the numberz<br> \n",
        "__Hint__: Use as input the binary representation as a string and invert its order"
      ]
    },
    {
      "cell_type": "markdown",
      "metadata": {
        "id": "sjxwZuwYekWk",
        "colab_type": "text"
      },
      "source": [
        "__SOLUTION__:"
      ]
    },
    {
      "cell_type": "markdown",
      "metadata": {
        "id": "gDTO3_OqekWl",
        "colab_type": "text"
      },
      "source": [
        "The goal of this course is try to implement all the algorithms in terms of array operations, instead of use the loops of Pyhton like the `for` loop.\n",
        "\n",
        "In this way, we need to interpret the formula in terms of  arrays operations. If we manage to achieve that, then NumPy will be take care of the internal loops, which are much faster than the Python loops. As a bonus, the code is more compact and readable.\n",
        "\n",
        "For example:\n",
        "\n",
        "\\begin{align}\n",
        "\\sum_{i=0}^{22}\\frac{b_{i}}{2^{23-i}}=&\\frac{b[0]}{2^{23}}+\\frac{b[1]}{2^{22}}\n",
        " +\\cdots +\\frac{b[21]}{2^2}+\\frac{b[22]}{2^1}\\nonumber\\\\\n",
        "=&\\frac{b}{2^{[23,22,...,1]}}.\\operatorname{sum()}\\nonumber\\\\\n",
        "=&\\frac{b}{2^{[1,2,...,23][::-1]}}.\\operatorname{sum()}\n",
        "\\end{align}\n",
        "\n",
        "To implemente the full formula:\n",
        "$$r = \\frac{(-1)^s}{2^{127-e}} \\left( 1 + \\sum_{i=0}^{22}\\frac{b_{i}}{2^{23-i}} \\right)$$\n",
        "with \n",
        "$$e = \\sum_{i=0}^7 b_{23+i}2^i$$\n",
        "we have"
      ]
    },
    {
      "cell_type": "code",
      "metadata": {
        "id": "4FfRykO2ekWm",
        "colab_type": "code",
        "colab": {}
      },
      "source": [
        "import numpy as np\n",
        "def number32(BIN):\n",
        "#if True:\n",
        "    #BIN='00111110001000000000000000000000'\n",
        "    #Inverting binary string\n",
        "    b_inverted=np.array(list(BIN)[::-1]).astype(int)\n",
        "    \n",
        "    s=b_inverted[31]\n",
        "    #Exponent part\n",
        "    be=b_inverted[23:31]\n",
        "    i=np.arange(be.size)\n",
        "    e=(be*(2**i)).sum()\n",
        "    \n",
        "    bf=b_inverted[0:23]\n",
        "    i_inverted=np.arange(1,bf.size+1)[::-1]\n",
        "\n",
        "\n",
        "    numero=( (-1)**s/2**(127-e)  )*( 1 + (bf/2**i_inverted).sum() ) \n",
        "    return numero"
      ],
      "execution_count": 0,
      "outputs": []
    },
    {
      "cell_type": "code",
      "metadata": {
        "scrolled": true,
        "id": "mWbfh4NbekWo",
        "colab_type": "code",
        "outputId": "3fefa19d-b440-4a87-97e8-c9de842157a8",
        "colab": {}
      },
      "source": [
        "print(number32('00111110001000000000000000000000'))"
      ],
      "execution_count": 0,
      "outputs": [
        {
          "output_type": "stream",
          "text": [
            "0.15625\n"
          ],
          "name": "stdout"
        }
      ]
    },
    {
      "cell_type": "markdown",
      "metadata": {
        "id": "9psQnJf6ekWq",
        "colab_type": "text"
      },
      "source": [
        "Check aginst the implementation with `for`'s"
      ]
    },
    {
      "cell_type": "code",
      "metadata": {
        "id": "ANxSuuvyekWr",
        "colab_type": "code",
        "colab": {}
      },
      "source": [
        "# %load numtobin.py\n",
        "def num32( binary ):\n",
        "    #Inverting binary string\n",
        "    binary = binary[::-1]\n",
        "    s=binary[31]\n",
        "    #Decimal part\n",
        "    dec = 1\n",
        "    for i in range(1,24):\n",
        "        dec += int(binary[23-i])*2**-i\n",
        "    #Exponent part\n",
        "    exp = 0\n",
        "    for i in range(0,8):\n",
        "        exp += int(binary[23+i])*2**i\n",
        "    #Total number\n",
        "    number =( (-1)**int(s)/2**(127-exp) )*dec\n",
        "    return number"
      ],
      "execution_count": 0,
      "outputs": []
    },
    {
      "cell_type": "code",
      "metadata": {
        "id": "IUlLc8yjekWu",
        "colab_type": "code",
        "outputId": "a7708d76-57a1-4bde-b201-02355da9bdb9",
        "colab": {}
      },
      "source": [
        "print(num32('00111110001000000000000000000000'))"
      ],
      "execution_count": 0,
      "outputs": [
        {
          "output_type": "stream",
          "text": [
            "0.15625\n"
          ],
          "name": "stdout"
        }
      ]
    },
    {
      "cell_type": "markdown",
      "metadata": {
        "id": "_XvzBid9ekWw",
        "colab_type": "text"
      },
      "source": [
        "%load sln.py"
      ]
    },
    {
      "cell_type": "markdown",
      "metadata": {
        "id": "WJr54n_TekWx",
        "colab_type": "text"
      },
      "source": [
        "Single-precision system can represent real numbers within the interval $\\pm 10^{-38} \\cdots 10^{38}$, with $7-8$ decimal digits."
      ]
    },
    {
      "cell_type": "code",
      "metadata": {
        "id": "rFsolRCzekWx",
        "colab_type": "code",
        "outputId": "5606b831-47f3-493e-b90e-6cd2c4ff52a8",
        "colab": {}
      },
      "source": [
        "#Decimal digits \n",
        "print \"\\n\"\n",
        "print \"Decimal digits contributions for single precision number\"\n",
        "print 2**-23., 2**-15., 2**-5. , \"\\n\"\n",
        "\n",
        "#Largest and smallest exponent  \n",
        "suma = 0 \n",
        "for i in xrange(0,8):\n",
        "    suma += 2**i\n",
        "print \"Largest and smallest exponent for single precision number\"    \n",
        "print 2**(suma-127.), 2**(-127.),\"\\n\""
      ],
      "execution_count": 0,
      "outputs": [
        {
          "output_type": "stream",
          "text": [
            "\n",
            "\n",
            "Decimal digits contributions for single precision number\n",
            "1.19209289551e-07 3.0517578125e-05 0.03125 \n",
            "\n",
            "Largest and smallest exponent for single precision number\n",
            "3.40282366921e+38 5.87747175411e-39 \n",
            "\n"
          ],
          "name": "stdout"
        }
      ]
    },
    {
      "cell_type": "markdown",
      "metadata": {
        "id": "8qJB0mI5ekW0",
        "colab_type": "text"
      },
      "source": [
        "### Double-precision numbers"
      ]
    },
    {
      "cell_type": "markdown",
      "metadata": {
        "id": "Dvz9JGLvekW0",
        "colab_type": "text"
      },
      "source": [
        "Double-precision numbers are used when high accuracy is required. These numbers are represented by a **64-bits** (Binary digIT) lenght binary number, where the real number is stored following the next rules:\n",
        "\n",
        "![64-bits](http://upload.wikimedia.org/wikipedia/commons/thumb/a/a9/IEEE_754_Double_Floating_Point_Format.svg/618px-IEEE_754_Double_Floating_Point_Format.svg.png)\n",
        "\n",
        "1. The fist digit (called *s*) indicates the sign of the number (s=0 means a positive number, s=1 a negative one).\n",
        "2. The next 11 bits represent the exponent of the number.\n",
        "3. The last  bits represent the fractional part of the number.\n",
        "\n",
        "The formula for recovering the real number is then given by:\n",
        "\n",
        "$$r = (-1)^s\\times \\left( 1 + \\sum_{i=1}^{52}b_{52-i}2^{-i} \\right)\\times 2^{e-1023}$$\n",
        "\n",
        "where $s$ is the sign, $b_{23-i}$ the fraction bits and $e$ is given by:\n",
        "\n",
        "$$e = \\sum_{i=0}^{10} b_{52+i}2^i$$\n",
        "\n",
        "Double-precision system can represent real numbers within the interval $\\pm 10^{-308} \\cdots 10^{308}$, with $16-17$ decimal digits."
      ]
    },
    {
      "cell_type": "markdown",
      "metadata": {
        "id": "Frp255HEekW1",
        "colab_type": "text"
      },
      "source": [
        "### **ACTIVITY**\n",
        "\n",
        "**1.** Write a python script that calculates the double precision number represented by a 64-bits binary.\n",
        "\n",
        "    \n",
        "**2.** What is the number represented by:\n",
        "\n",
        "0 10000000011 1011100100001111111111111111111111111111111111111111\n",
        "\n",
        "<font color='white'>\n",
        "    **ANSWER:**  27.56640625"
      ]
    },
    {
      "cell_type": "markdown",
      "metadata": {
        "id": "PuIokoT9ekW2",
        "colab_type": "text"
      },
      "source": [
        "## Finite Arithmetic"
      ]
    },
    {
      "cell_type": "markdown",
      "metadata": {
        "id": "4W64J6WhekW2",
        "colab_type": "text"
      },
      "source": [
        "The most basic arithmetic operations are addition and multiplication. Further operations such as subtraction, division and power are secondary as they can be reached by iteratively use the latter ones."
      ]
    },
    {
      "cell_type": "markdown",
      "metadata": {
        "id": "EMlWF2h_ekW3",
        "colab_type": "text"
      },
      "source": [
        "### Addition"
      ]
    },
    {
      "cell_type": "markdown",
      "metadata": {
        "id": "BXt1BtnPekW4",
        "colab_type": "text"
      },
      "source": [
        "As mentioned before, arithmetic operations are not exact in a computer due to the inherent limitations in number representing. Even when adding two already approximate numbers, say a single-precision couple of numbers, the result may not be a representable number, being necessary to apply approximation rules."
      ]
    },
    {
      "cell_type": "code",
      "metadata": {
        "scrolled": false,
        "id": "mvU-3m4fekW5",
        "colab_type": "code",
        "outputId": "4d882f8b-4254-46fe-aea3-5b77718232eb",
        "colab": {}
      },
      "source": [
        "N = 9\n",
        "xe=0; x = 0; \n",
        "for i in range(N):\n",
        "    xe += np.float(1.0/N)\n",
        "    x += np.float16(1.0/N)\n",
        "print('expected: {}; obtained: {}'.format(xe,x))\n",
        "xe"
      ],
      "execution_count": 0,
      "outputs": [
        {
          "output_type": "stream",
          "text": [
            "expected: 1.0000000000000002; obtained: 0.999755859375\n"
          ],
          "name": "stdout"
        },
        {
          "output_type": "execute_result",
          "data": {
            "text/plain": [
              "1.0000000000000002"
            ]
          },
          "metadata": {
            "tags": []
          },
          "execution_count": 80
        }
      ]
    },
    {
      "cell_type": "markdown",
      "metadata": {
        "id": "LAVSt9XUekW8",
        "colab_type": "text"
      },
      "source": [
        "Note that the sucessive application of rounded-off numbers produces a final result less precise."
      ]
    },
    {
      "cell_type": "code",
      "metadata": {
        "id": "UDytdHUbekW8",
        "colab_type": "code",
        "outputId": "9552ce7d-fcaa-43d4-c83b-f1d53b25f9ab",
        "colab": {}
      },
      "source": [
        "print( \"5/7\".format( np.float32(5/7.) )\n",
        "print( \"1/3\", np.float32(1/3.)\n",
        "print( np.float32(5/7.+1/3.), 22/21.\n",
        "print(\"Error:\", np.float32(5/7.+1/3.)-22/21."
      ],
      "execution_count": 0,
      "outputs": [
        {
          "output_type": "stream",
          "text": [
            "5/7 0.714286\n",
            "1/3 0.333333\n",
            "1.04762 1.04761904762\n",
            "Error: 5.67663283046e-08\n"
          ],
          "name": "stdout"
        }
      ]
    },
    {
      "cell_type": "markdown",
      "metadata": {
        "id": "FS1nwtKfekW-",
        "colab_type": "text"
      },
      "source": [
        "Although the **float16** or half-float precision is standard according to the IEEE 754-2008, many devices do not support it well. Moreower, the same problems will reapear at higher precision. "
      ]
    },
    {
      "cell_type": "markdown",
      "metadata": {
        "id": "vdb_-iBaekW_",
        "colab_type": "text"
      },
      "source": [
        "### Multiplication"
      ]
    },
    {
      "cell_type": "markdown",
      "metadata": {
        "id": "FY_9Ec5VekXA",
        "colab_type": "text"
      },
      "source": [
        "For multiplication it is applied the same round-off rules as the addition, however, be aware that multiplicative errors propagate more quickly than additive errors."
      ]
    },
    {
      "cell_type": "code",
      "metadata": {
        "scrolled": true,
        "id": "Sj_QSq39ekXA",
        "colab_type": "code",
        "outputId": "76febac5-9619-4e10-97cd-8aa2573dad0d",
        "colab": {}
      },
      "source": [
        "N = 20\n",
        "xe=1; x = 1\n",
        "for i in range(N):\n",
        "    xe *= np.float(2.0**(1.0/N))\n",
        "    x *= np.float16(2.0**(1.0/N))\n",
        "print('expected: {}; obtained: {}'.format(xe,x))"
      ],
      "execution_count": 0,
      "outputs": [
        {
          "output_type": "stream",
          "text": [
            "expected: 2.000000000000003; obtained: 1.9958053041750938\n"
          ],
          "name": "stdout"
        }
      ]
    },
    {
      "cell_type": "markdown",
      "metadata": {
        "id": "F21OUbxcekXD",
        "colab_type": "text"
      },
      "source": [
        "The final result has an error at the third decimal digit, one more than the case of addition."
      ]
    },
    {
      "cell_type": "markdown",
      "metadata": {
        "id": "uvZ8RXy6ekXE",
        "colab_type": "text"
      },
      "source": [
        "**ACTIVITY**\n",
        "\n",
        "Find the error associated to the finite representation in the next operations \n",
        "\n",
        "\n",
        "\n",
        "$$\n",
        "x-u, \\frac{x-u}{w}, (x-u)*v, u+v \n",
        "$$\n",
        "\n",
        "considering the values \n",
        "\n",
        "$$\n",
        "x = \\frac{5}{7}, y = \\frac{1}{3}, u = 0.71425\n",
        "$$\n",
        "\n",
        "\n",
        "\n",
        "$$\n",
        "v = 0.98765\\times 10^5, w = 0.111111\\times 10^{-4}\n",
        "$$\n"
      ]
    },
    {
      "cell_type": "code",
      "metadata": {
        "id": "h9yFZu_2ekXF",
        "colab_type": "code",
        "colab": {}
      },
      "source": [
        ""
      ],
      "execution_count": 0,
      "outputs": []
    }
  ]
}